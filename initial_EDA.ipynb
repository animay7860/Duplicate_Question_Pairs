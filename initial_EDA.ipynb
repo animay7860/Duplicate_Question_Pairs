{
 "cells": [
  {
   "cell_type": "code",
   "execution_count": 2,
   "id": "074d61f9",
   "metadata": {},
   "outputs": [],
   "source": [
    "import numpy as np\n",
    "import pandas as pd\n",
    "import seaborn as sns\n",
    "import matplotlib.pyplot as plt"
   ]
  },
  {
   "cell_type": "code",
   "execution_count": 3,
   "id": "8807cb11",
   "metadata": {},
   "outputs": [
    {
     "data": {
      "text/plain": [
       "(404290, 6)"
      ]
     },
     "execution_count": 3,
     "metadata": {},
     "output_type": "execute_result"
    }
   ],
   "source": [
    "df=pd.read_csv(\"train.csv\")\n",
    "df.shape"
   ]
  },
  {
   "cell_type": "code",
   "execution_count": 4,
   "id": "aab871e1",
   "metadata": {},
   "outputs": [
    {
     "data": {
      "text/html": [
       "<div>\n",
       "<style scoped>\n",
       "    .dataframe tbody tr th:only-of-type {\n",
       "        vertical-align: middle;\n",
       "    }\n",
       "\n",
       "    .dataframe tbody tr th {\n",
       "        vertical-align: top;\n",
       "    }\n",
       "\n",
       "    .dataframe thead th {\n",
       "        text-align: right;\n",
       "    }\n",
       "</style>\n",
       "<table border=\"1\" class=\"dataframe\">\n",
       "  <thead>\n",
       "    <tr style=\"text-align: right;\">\n",
       "      <th></th>\n",
       "      <th>id</th>\n",
       "      <th>qid1</th>\n",
       "      <th>qid2</th>\n",
       "      <th>question1</th>\n",
       "      <th>question2</th>\n",
       "      <th>is_duplicate</th>\n",
       "    </tr>\n",
       "  </thead>\n",
       "  <tbody>\n",
       "    <tr>\n",
       "      <th>0</th>\n",
       "      <td>0</td>\n",
       "      <td>1</td>\n",
       "      <td>2</td>\n",
       "      <td>What is the step by step guide to invest in sh...</td>\n",
       "      <td>What is the step by step guide to invest in sh...</td>\n",
       "      <td>0</td>\n",
       "    </tr>\n",
       "    <tr>\n",
       "      <th>1</th>\n",
       "      <td>1</td>\n",
       "      <td>3</td>\n",
       "      <td>4</td>\n",
       "      <td>What is the story of Kohinoor (Koh-i-Noor) Dia...</td>\n",
       "      <td>What would happen if the Indian government sto...</td>\n",
       "      <td>0</td>\n",
       "    </tr>\n",
       "    <tr>\n",
       "      <th>2</th>\n",
       "      <td>2</td>\n",
       "      <td>5</td>\n",
       "      <td>6</td>\n",
       "      <td>How can I increase the speed of my internet co...</td>\n",
       "      <td>How can Internet speed be increased by hacking...</td>\n",
       "      <td>0</td>\n",
       "    </tr>\n",
       "    <tr>\n",
       "      <th>3</th>\n",
       "      <td>3</td>\n",
       "      <td>7</td>\n",
       "      <td>8</td>\n",
       "      <td>Why am I mentally very lonely? How can I solve...</td>\n",
       "      <td>Find the remainder when [math]23^{24}[/math] i...</td>\n",
       "      <td>0</td>\n",
       "    </tr>\n",
       "    <tr>\n",
       "      <th>4</th>\n",
       "      <td>4</td>\n",
       "      <td>9</td>\n",
       "      <td>10</td>\n",
       "      <td>Which one dissolve in water quikly sugar, salt...</td>\n",
       "      <td>Which fish would survive in salt water?</td>\n",
       "      <td>0</td>\n",
       "    </tr>\n",
       "  </tbody>\n",
       "</table>\n",
       "</div>"
      ],
      "text/plain": [
       "   id  qid1  qid2                                          question1  \\\n",
       "0   0     1     2  What is the step by step guide to invest in sh...   \n",
       "1   1     3     4  What is the story of Kohinoor (Koh-i-Noor) Dia...   \n",
       "2   2     5     6  How can I increase the speed of my internet co...   \n",
       "3   3     7     8  Why am I mentally very lonely? How can I solve...   \n",
       "4   4     9    10  Which one dissolve in water quikly sugar, salt...   \n",
       "\n",
       "                                           question2  is_duplicate  \n",
       "0  What is the step by step guide to invest in sh...             0  \n",
       "1  What would happen if the Indian government sto...             0  \n",
       "2  How can Internet speed be increased by hacking...             0  \n",
       "3  Find the remainder when [math]23^{24}[/math] i...             0  \n",
       "4            Which fish would survive in salt water?             0  "
      ]
     },
     "execution_count": 4,
     "metadata": {},
     "output_type": "execute_result"
    }
   ],
   "source": [
    "df.head()"
   ]
  },
  {
   "cell_type": "code",
   "execution_count": 5,
   "id": "a12163a3",
   "metadata": {},
   "outputs": [
    {
     "data": {
      "text/html": [
       "<div>\n",
       "<style scoped>\n",
       "    .dataframe tbody tr th:only-of-type {\n",
       "        vertical-align: middle;\n",
       "    }\n",
       "\n",
       "    .dataframe tbody tr th {\n",
       "        vertical-align: top;\n",
       "    }\n",
       "\n",
       "    .dataframe thead th {\n",
       "        text-align: right;\n",
       "    }\n",
       "</style>\n",
       "<table border=\"1\" class=\"dataframe\">\n",
       "  <thead>\n",
       "    <tr style=\"text-align: right;\">\n",
       "      <th></th>\n",
       "      <th>id</th>\n",
       "      <th>qid1</th>\n",
       "      <th>qid2</th>\n",
       "      <th>question1</th>\n",
       "      <th>question2</th>\n",
       "      <th>is_duplicate</th>\n",
       "    </tr>\n",
       "  </thead>\n",
       "  <tbody>\n",
       "    <tr>\n",
       "      <th>74814</th>\n",
       "      <td>74814</td>\n",
       "      <td>128146</td>\n",
       "      <td>128147</td>\n",
       "      <td>What will the launch of the Apple iPhone look ...</td>\n",
       "      <td>What will the iPhone look like, 10 years from ...</td>\n",
       "      <td>0</td>\n",
       "    </tr>\n",
       "    <tr>\n",
       "      <th>56511</th>\n",
       "      <td>56511</td>\n",
       "      <td>26054</td>\n",
       "      <td>32200</td>\n",
       "      <td>Why are there so many people using Quora to an...</td>\n",
       "      <td>Why do so many people ask google-able question...</td>\n",
       "      <td>1</td>\n",
       "    </tr>\n",
       "    <tr>\n",
       "      <th>400736</th>\n",
       "      <td>400736</td>\n",
       "      <td>534089</td>\n",
       "      <td>534090</td>\n",
       "      <td>Name some comedy tv series?</td>\n",
       "      <td>Why am I still single at the age of 20 as a ma...</td>\n",
       "      <td>0</td>\n",
       "    </tr>\n",
       "    <tr>\n",
       "      <th>192461</th>\n",
       "      <td>192461</td>\n",
       "      <td>292100</td>\n",
       "      <td>292101</td>\n",
       "      <td>What does NAT do to my source port?</td>\n",
       "      <td>How can I connect my external hard disk to TP ...</td>\n",
       "      <td>0</td>\n",
       "    </tr>\n",
       "    <tr>\n",
       "      <th>403134</th>\n",
       "      <td>403134</td>\n",
       "      <td>17354</td>\n",
       "      <td>536698</td>\n",
       "      <td>Where can I found best quality walk in wardrob...</td>\n",
       "      <td>Where can I the find best quality wardrobes in...</td>\n",
       "      <td>1</td>\n",
       "    </tr>\n",
       "    <tr>\n",
       "      <th>261952</th>\n",
       "      <td>261952</td>\n",
       "      <td>267839</td>\n",
       "      <td>378200</td>\n",
       "      <td>How do I fix my garage door opener?</td>\n",
       "      <td>How do I fix my garage door spring?</td>\n",
       "      <td>0</td>\n",
       "    </tr>\n",
       "    <tr>\n",
       "      <th>236062</th>\n",
       "      <td>236062</td>\n",
       "      <td>23897</td>\n",
       "      <td>19781</td>\n",
       "      <td>What are some major social faux pas to avoid w...</td>\n",
       "      <td>What are some major social faux pas to avoid w...</td>\n",
       "      <td>0</td>\n",
       "    </tr>\n",
       "    <tr>\n",
       "      <th>75366</th>\n",
       "      <td>75366</td>\n",
       "      <td>129001</td>\n",
       "      <td>129002</td>\n",
       "      <td>What is the equation for anaerobic respiration...</td>\n",
       "      <td>What is forced respiration?</td>\n",
       "      <td>0</td>\n",
       "    </tr>\n",
       "    <tr>\n",
       "      <th>354398</th>\n",
       "      <td>354398</td>\n",
       "      <td>121</td>\n",
       "      <td>483516</td>\n",
       "      <td>How do I download content from a kickass torre...</td>\n",
       "      <td>Is Kickass Torrents shut down in India?</td>\n",
       "      <td>0</td>\n",
       "    </tr>\n",
       "    <tr>\n",
       "      <th>397417</th>\n",
       "      <td>397417</td>\n",
       "      <td>530541</td>\n",
       "      <td>530542</td>\n",
       "      <td>Can anyone give me some advice? I'm broke. I c...</td>\n",
       "      <td>Is there any mechanical engineer from india wo...</td>\n",
       "      <td>0</td>\n",
       "    </tr>\n",
       "  </tbody>\n",
       "</table>\n",
       "</div>"
      ],
      "text/plain": [
       "            id    qid1    qid2  \\\n",
       "74814    74814  128146  128147   \n",
       "56511    56511   26054   32200   \n",
       "400736  400736  534089  534090   \n",
       "192461  192461  292100  292101   \n",
       "403134  403134   17354  536698   \n",
       "261952  261952  267839  378200   \n",
       "236062  236062   23897   19781   \n",
       "75366    75366  129001  129002   \n",
       "354398  354398     121  483516   \n",
       "397417  397417  530541  530542   \n",
       "\n",
       "                                                question1  \\\n",
       "74814   What will the launch of the Apple iPhone look ...   \n",
       "56511   Why are there so many people using Quora to an...   \n",
       "400736                        Name some comedy tv series?   \n",
       "192461                What does NAT do to my source port?   \n",
       "403134  Where can I found best quality walk in wardrob...   \n",
       "261952                How do I fix my garage door opener?   \n",
       "236062  What are some major social faux pas to avoid w...   \n",
       "75366   What is the equation for anaerobic respiration...   \n",
       "354398  How do I download content from a kickass torre...   \n",
       "397417  Can anyone give me some advice? I'm broke. I c...   \n",
       "\n",
       "                                                question2  is_duplicate  \n",
       "74814   What will the iPhone look like, 10 years from ...             0  \n",
       "56511   Why do so many people ask google-able question...             1  \n",
       "400736  Why am I still single at the age of 20 as a ma...             0  \n",
       "192461  How can I connect my external hard disk to TP ...             0  \n",
       "403134  Where can I the find best quality wardrobes in...             1  \n",
       "261952                How do I fix my garage door spring?             0  \n",
       "236062  What are some major social faux pas to avoid w...             0  \n",
       "75366                         What is forced respiration?             0  \n",
       "354398            Is Kickass Torrents shut down in India?             0  \n",
       "397417  Is there any mechanical engineer from india wo...             0  "
      ]
     },
     "execution_count": 5,
     "metadata": {},
     "output_type": "execute_result"
    }
   ],
   "source": [
    "df.sample(10)"
   ]
  },
  {
   "cell_type": "code",
   "execution_count": 6,
   "id": "a93a12fa",
   "metadata": {},
   "outputs": [
    {
     "name": "stdout",
     "output_type": "stream",
     "text": [
      "<class 'pandas.core.frame.DataFrame'>\n",
      "RangeIndex: 404290 entries, 0 to 404289\n",
      "Data columns (total 6 columns):\n",
      " #   Column        Non-Null Count   Dtype \n",
      "---  ------        --------------   ----- \n",
      " 0   id            404290 non-null  int64 \n",
      " 1   qid1          404290 non-null  int64 \n",
      " 2   qid2          404290 non-null  int64 \n",
      " 3   question1     404289 non-null  object\n",
      " 4   question2     404288 non-null  object\n",
      " 5   is_duplicate  404290 non-null  int64 \n",
      "dtypes: int64(4), object(2)\n",
      "memory usage: 18.5+ MB\n"
     ]
    }
   ],
   "source": [
    "df.info()"
   ]
  },
  {
   "cell_type": "code",
   "execution_count": 7,
   "id": "0952ed08",
   "metadata": {},
   "outputs": [
    {
     "data": {
      "text/plain": [
       "id              0\n",
       "qid1            0\n",
       "qid2            0\n",
       "question1       1\n",
       "question2       2\n",
       "is_duplicate    0\n",
       "dtype: int64"
      ]
     },
     "execution_count": 7,
     "metadata": {},
     "output_type": "execute_result"
    }
   ],
   "source": [
    "# missing values\n",
    "df.isnull().sum()"
   ]
  },
  {
   "cell_type": "code",
   "execution_count": 9,
   "id": "64956d5f",
   "metadata": {},
   "outputs": [
    {
     "data": {
      "text/plain": [
       "0"
      ]
     },
     "execution_count": 9,
     "metadata": {},
     "output_type": "execute_result"
    }
   ],
   "source": [
    "df.duplicated().sum()"
   ]
  },
  {
   "cell_type": "code",
   "execution_count": 11,
   "id": "82b4bc86",
   "metadata": {},
   "outputs": [
    {
     "name": "stdout",
     "output_type": "stream",
     "text": [
      "0    255027\n",
      "1    149263\n",
      "Name: is_duplicate, dtype: int64\n",
      "0    63.080215\n",
      "1    36.919785\n",
      "Name: is_duplicate, dtype: float64\n"
     ]
    },
    {
     "data": {
      "text/plain": [
       "<AxesSubplot: >"
      ]
     },
     "execution_count": 11,
     "metadata": {},
     "output_type": "execute_result"
    },
    {
     "data": {
      "image/png": "[encoded data removed]",
      "text/plain": [
       "<Figure size 640x480 with 1 Axes>"
      ]
     },
     "metadata": {},
     "output_type": "display_data"
    }
   ],
   "source": [
    "# Distribution of Duplicate and Non_duplicate Questions\n",
    "print(df['is_duplicate'].value_counts())\n",
    "print((df['is_duplicate'].value_counts()/df['is_duplicate'].count())*100)\n",
    "df['is_duplicate'].value_counts().plot(kind='bar')"
   ]
  },
  {
   "cell_type": "code",
   "execution_count": 9,
   "id": "2a36ef59",
   "metadata": {},
   "outputs": [
    {
     "name": "stdout",
     "output_type": "stream",
     "text": [
      "Number of unique questions 537933\n",
      "Number of questions getting repeated 111780\n"
     ]
    }
   ],
   "source": [
    "# Repeated questions\n",
    "qid = pd.Series(df['qid1'].tolist() + df['qid2'].tolist())\n",
    "print('Number of unique questions',np.unique(qid).shape[0])\n",
    "x = qid.value_counts()>1\n",
    "print('Number of questions getting repeated',x[x].shape[0])"
   ]
  },
  {
   "cell_type": "code",
   "execution_count": 10,
   "id": "ab61ce37",
   "metadata": {},
   "outputs": [
    {
     "data": {
      "image/png": "[encoded data removed]",
      "text/plain": [
       "<Figure size 640x480 with 1 Axes>"
      ]
     },
     "metadata": {},
     "output_type": "display_data"
    }
   ],
   "source": [
    "# Repeated questions histogram\n",
    "plt.hist(qid.value_counts().values,bins=160)\n",
    "plt.yscale('log')\n",
    "plt.show()"
   ]
  },
  {
   "cell_type": "code",
   "execution_count": null,
   "id": "9393800c",
   "metadata": {},
   "outputs": [],
   "source": []
  }
 ],
 "metadata": {
  "kernelspec": {
   "display_name": "Python 3 (ipykernel)",
   "language": "python",
   "name": "python3"
  },
  "language_info": {
   "codemirror_mode": {
    "name": "ipython",
    "version": 3
   },
   "file_extension": ".py",
   "mimetype": "text/x-python",
   "name": "python",
   "nbconvert_exporter": "python",
   "pygments_lexer": "ipython3",
   "version": "3.10.7"
  }
 },
 "nbformat": 4,
 "nbformat_minor": 5
}
